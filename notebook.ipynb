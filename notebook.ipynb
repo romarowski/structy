{
 "cells": [
  {
   "cell_type": "code",
   "execution_count": 12,
   "id": "a10cc8b9",
   "metadata": {},
   "outputs": [],
   "source": [
    "import pdb"
   ]
  },
  {
   "cell_type": "code",
   "execution_count": 1,
   "id": "2dc7c36e",
   "metadata": {},
   "outputs": [],
   "source": [
    "class Node:\n",
    "   def __init__(self, val):\n",
    "    self.val = val\n",
    "    self.next = None"
   ]
  },
  {
   "cell_type": "code",
   "execution_count": 3,
   "id": "9ad0d767",
   "metadata": {},
   "outputs": [],
   "source": [
    "a = Node(\"a\")\n",
    "b = Node(\"b\")\n",
    "c = Node(\"c\")\n",
    "a.next = b\n",
    "b.next = c\n",
    "# a -> b -> c\n",
    "\n",
    "x = Node(\"x\")\n",
    "y = Node(\"y\")\n",
    "z = Node(\"z\")\n",
    "x.next = y\n",
    "y.next = z"
   ]
  },
  {
   "cell_type": "code",
   "execution_count": 13,
   "id": "ba1c1f9c",
   "metadata": {},
   "outputs": [],
   "source": [
    "head_1 = a"
   ]
  },
  {
   "cell_type": "code",
   "execution_count": 10,
   "id": "3a32a5bf",
   "metadata": {
    "scrolled": true
   },
   "outputs": [
    {
     "data": {
      "text/plain": [
       "'x'"
      ]
     },
     "execution_count": 10,
     "metadata": {},
     "output_type": "execute_result"
    }
   ],
   "source": [
    "head_2 = x"
   ]
  },
  {
   "cell_type": "code",
   "execution_count": 15,
   "id": "013b9f8a",
   "metadata": {},
   "outputs": [
    {
     "name": "stdout",
     "output_type": "stream",
     "text": [
      "140182648892528\n",
      "140182648892528\n"
     ]
    }
   ],
   "source": [
    "current = head_1\n",
    "print(id(current))\n",
    "print(id(head_1))"
   ]
  },
  {
   "cell_type": "code",
   "execution_count": null,
   "id": "27649da6",
   "metadata": {},
   "outputs": [],
   "source": [
    "next = head_2"
   ]
  },
  {
   "cell_type": "code",
   "execution_count": null,
   "id": "352b7cda",
   "metadata": {},
   "outputs": [],
   "source": []
  },
  {
   "cell_type": "markdown",
   "id": "c1838338",
   "metadata": {},
   "source": [
    "current.next = next\n",
    "print(head_1.next, next)"
   ]
  },
  {
   "cell_type": "code",
   "execution_count": null,
   "id": "665e5da4",
   "metadata": {},
   "outputs": [],
   "source": [
    "next.next = head_1.next\n",
    "  \n"
   ]
  },
  {
   "cell_type": "code",
   "execution_count": null,
   "id": "31cfbfd6",
   "metadata": {},
   "outputs": [],
   "source": [
    "current = head_1.next\n",
    "  \n"
   ]
  },
  {
   "cell_type": "code",
   "execution_count": null,
   "id": "ea8bbf8e",
   "metadata": {},
   "outputs": [],
   "source": [
    "next = head_2.next"
   ]
  }
 ],
 "metadata": {
  "kernelspec": {
   "display_name": "Python 3 (ipykernel)",
   "language": "python",
   "name": "python3"
  },
  "language_info": {
   "codemirror_mode": {
    "name": "ipython",
    "version": 3
   },
   "file_extension": ".py",
   "mimetype": "text/x-python",
   "name": "python",
   "nbconvert_exporter": "python",
   "pygments_lexer": "ipython3",
   "version": "3.8.10"
  }
 },
 "nbformat": 4,
 "nbformat_minor": 5
}
